{
 "cells": [
  {
   "cell_type": "code",
   "execution_count": 1,
   "metadata": {},
   "outputs": [
    {
     "name": "stdout",
     "output_type": "stream",
     "text": [
      "importing Jupyter notebook from Pieces.ipynb\n"
     ]
    }
   ],
   "source": [
    "import import_ipynb\n",
    "from Pieces import Piece, GreenPiece"
   ]
  },
  {
   "cell_type": "code",
   "execution_count": 2,
   "metadata": {},
   "outputs": [],
   "source": [
    "from collections import namedtuple\n",
    "\n",
    "Coord = namedtuple(\"Coord\", [\"X\", \"Y\"]) \n",
    "\n",
    "\n",
    "##have meta blocks like shrink, rotate, and ++ to augment powers of each block"
   ]
  },
  {
   "cell_type": "code",
   "execution_count": 48,
   "metadata": {},
   "outputs": [],
   "source": [
    "import copy\n",
    "class Board:\n",
    "    \"\"\"A class to hold the play space, location of placed blocks, and unused blocks\"\"\"\n",
    "        \n",
    "    \n",
    "    def __init__(self, width=6, height=5, name=\"UNNAMED BOARD\", owner=\"dev\"):\n",
    "        self.width = width; self.height = height\n",
    "        self.name = name\n",
    "        self.owner = owner\n",
    "        self.activeLine = [Coord(i, 1) for i in range(self.width)] ###Hardcoded active line\n",
    "        self.pieceIDs = {}\n",
    "        self.reprDict = {0:\"_\", \"ACTIVE\":\"#\", \"GREEN\":\"G\" ,\"BLUE\":\"B\"}\n",
    "        \n",
    "        \n",
    "        \n",
    "        #Build the main board and it's active line\n",
    "        self.layout = [[0 for x in range(self.height)] for x in range(self.width)] \n",
    "        self.displayLayout = copy.deepcopy(self.layout) ###Maybe I don't really need a display board?\n",
    "        self.SetLine(self.activeLine)\n",
    "        \n",
    "        #Initialize the board's first original state and the board that gets displayed.\n",
    "        self.startingLayout = copy.deepcopy(self.layout)\n",
    "        self.startingDisplay = copy.deepcopy(self.displayLayout)\n",
    "        #self.UpdateDisplay()        \n",
    "        \n",
    "    def SetLine(self, coordList):\n",
    "        \"\"\"Currently a hardcoded active line. But at least it edits in place rather than creates a copy\"\"\"\n",
    "        for coord in coordList:\n",
    "            self.layout[coord.X][coord.Y] = 1\n",
    "            self.displayLayout[coord.X][coord.Y] = \"Active\"\n",
    "  \n",
    "    def __repr__(self):\n",
    "        return \"<%s; w:%d h:%d>\" %(self.name, self.width, self.height)\n",
    "    \n",
    "    def __str__(self):\n",
    "        return \"%s's %s\" %(self.owner, self.name) \n",
    "    \n",
    "    def PrintBoard(self):\n",
    "        \"\"\"Print a Command-Line, text base preview of the board layout.\"\"\"\n",
    "        for row in [*zip(*self.displayLayout)]: #transpose the display array since print doesnt work well with the xy order\n",
    "            for block in row:    \n",
    "                print(\"|%s|\" %self.reprDict.get(block,\"?\"), end=\"\")\n",
    "            print(\"\")\n",
    "        print(\"\")\n",
    "            \n",
    "    def UpdateDisplay(self): ###Not Used\n",
    "        for coord in self.SetLine:\n",
    "            self.displayLayout[coord.X][coord.Y] = \"Active\"\n",
    "        for piece in self.pieceIDs.values():\n",
    "            color = piece.GetColor()\n",
    "            coordsList = piece.GetCoordinates()\n",
    "            for coord in coordsList:\n",
    "                self.displayLayout[coord.X][coord.Y] = color\n",
    "                \n",
    "    \n",
    "    def ClearBoard(self):\n",
    "        self.layout = copy.deepcopy(self.startingLayout)\n",
    "        self.displayLayout = copy.deepcopy(self.startingDisplay)\n",
    "        #self.SetLine()\n",
    "        self.pieceIDs = {}\n",
    "        \n",
    "#--------------------------------------------------\n",
    "    \n",
    "    \n",
    "    def PlacePiece(self, piece, placementCoord): #Should this just be combined with check placement?\n",
    "        isLegal = self.CheckPlacement(piece, placementCoord)\n",
    "        if isLegal:\n",
    "            pieceID = piece.GetID()\n",
    "            pieceColor = piece.GetColor()\n",
    "            listCoordinates = isLegal\n",
    "            if pieceID in self.pieceIDs.keys(): #Remove old placement if already on board\n",
    "                self.RemovePiece(pieceID)\n",
    "            piece.SetCoordinates(listCoordinates)\n",
    "\n",
    "            self.pieceIDs[pieceID] = piece #place pieceID into board's dict of placed pieces\n",
    "            for coord in listCoordinates:\n",
    "                self.layout[coord.X][coord.Y] = pieceID\n",
    "                self.displayLayout[coord.X][coord.Y] = pieceColor\n",
    "            #for coord in piece:\n",
    "            #    X = placementCoord.X + coord.X\n",
    "            #    Y = placementCoord.Y + coord.Y\n",
    "            #    self.layout[X][Y] = pieceID\n",
    "            #    self.displayLayout[X][Y] = pieceColor\n",
    "            return True\n",
    "                \n",
    "        return False\n",
    "    ######maybe there should be a null piece check somewhere\n",
    "    \n",
    "        \n",
    "    def CheckPlacement(self, piece, placementCoord, storeValues=True): #maybe later provide an option for not storing values in piece\n",
    "        \"\"\"Given a Piece and a Coord for where to place the origin(0,0), check to see \n",
    "           that it doesn't overlap or go out of bounds.  If it is legal, return Bool True.  \n",
    "           Additionaly if storeValues is true, return the new coordinates instead of True.\n",
    "           \"\"\"\n",
    "        futureCoordinates = []\n",
    "        for coord in piece:\n",
    "            X = placementCoord.X + coord.X\n",
    "            Y = placementCoord.Y + coord.Y\n",
    "            if (not 0 <= X <= self.width) or (not 0 <= Y <= self.height):\n",
    "                print(\"yeet1\")########################\n",
    "                return False\n",
    "            if self.layout[X][Y] not in {0, 1, piece.GetID()}: #values rn are 1==empty and 2==activeLine\n",
    "                print(\"yeet2: (%d, %d)\" %(X, Y))\n",
    "                return False\n",
    "            futureCoordinates.append(Coord(X, Y))\n",
    "        if storeValues:\n",
    "            return futureCoordinates\n",
    "        else:\n",
    "            return True\n",
    "    \n",
    "    def RemovePiece(self, piece):\n",
    "        if isinstance(piece, Piece):\n",
    "            pieceID = piece.GetID()\n",
    "            ##remove the squares on board from piece.GetCoordinates()\n",
    "            for coord in piece.GetCoordinates():\n",
    "                self.layout[coord.X][coord.Y] = self.startingLayout[coord.X][coord.Y]\n",
    "                self.displayLayout[coord.X][coord.Y] = self.startingDisplay[coord.X][coord.Y]\n",
    "            del self.pieceIDs[pieceID]\n",
    "            return piece\n",
    "        elif isinstance(piece, int) and 9000 <= piece <= 9200:\n",
    "            piece = self.pieceIDs[piece]\n",
    "            return self.RemovePiece(piece)\n",
    "        else:\n",
    "            print(\"ohnoooooooooooooooTHROWERRORooooooooo\")\n",
    "            return False\n",
    "        \n",
    "        \n",
    "    def Activate(self):\n",
    "        value = 0\n",
    "        activeIDList = []\n",
    "        for coord in self.activeLine:\n",
    "            pieceID = self.layout[coord.X][coord.Y]\n",
    "            print(pieceID)\n",
    "            activeIDList.append(pieceID)\n",
    "        \n",
    "        print(activeIDList)\n",
    "        \n",
    "        for i, ID in enumerate(activeIDList):\n",
    "            if ID == 1:\n",
    "                continue\n",
    "            piece = self.pieceIDs[ID]\n",
    "            value = piece.Activate(value, activeIDList[:i], activeIDList[i+1:])\n",
    "            print(\"Score:\", value)\n",
    "        \n",
    "        return value\n",
    "        \n",
    "        \n",
    "                \n",
    "            \n",
    "        \n",
    "          \n",
    "            \n",
    "b = Board()"
   ]
  },
  {
   "cell_type": "code",
   "execution_count": 44,
   "metadata": {},
   "outputs": [
    {
     "name": "stdout",
     "output_type": "stream",
     "text": [
      "[9001, 9002, 9003, 9004, 9005, 9006, 9007, 9008, 9009, 9011, 9012, 9013, 9014, 9015, 9016, 9017, 9018, 9019, 9020, 9021, 9022, 9023, 9024, 9025, 9026, 9027, 9028, 9029, 9030, 9031, 9032, 9033, 9034, 9035, 9036, 9037, 9038, 9039, 9040, 9041, 9042, 9043, 9044, 9045, 9046, 9047, 9048, 9049, 9050, 9051, 9052, 9053, 9054, 9055, 9056, 9057, 9058, 9059, 9060, 9061, 9062, 9063, 9064, 9065, 9066, 9067, 9068, 9069, 9070, 9071, 9072, 9073, 9074, 9075, 9076, 9077, 9078, 9079, 9080, 9081, 9082, 9083, 9084, 9085, 9086, 9087, 9088, 9089, 9090, 9091, 9092, 9093, 9094, 9095, 9096, 9097, 9099, 9100, 9101, 9102, 9103, 9104, 9105, 9106, 9107, 9108, 9109, 9110, 9111, 9112, 9113, 9114, 9115, 9116, 9117, 9118, 9120, 9121, 9122, 9123, 9124, 9125, 9126, 9127, 9128, 9129, 9130, 9131, 9132, 9133, 9134, 9135, 9136, 9137, 9138, 9139, 9140, 9141, 9142, 9143, 9144, 9145, 9146, 9147, 9148, 9149, 9150, 9151, 9152, 9153, 9154, 9155, 9156, 9158, 9159, 9160, 9161, 9162, 9163, 9164, 9165, 9166, 9167, 9168, 9169, 9170, 9171, 9173, 9174, 9175, 9176, 9177, 9178, 9180, 9181, 9182, 9183, 9184, 9185, 9186, 9187, 9188, 9189, 9190, 9191, 9192, 9193, 9194, 9195, 9196, 9197, 9198, 9199]\n",
      "[Coord(X=0, Y=0), Coord(X=1, Y=0), Coord(X=0, Y=-1), Coord(X=1, Y=-1)]\n",
      "9085\n",
      "9143\n",
      "9180\n",
      "[9001, 9002, 9003, 9004, 9005, 9006, 9007, 9008, 9009, 9011, 9012, 9013, 9014, 9015, 9016, 9017, 9018, 9019, 9020, 9021, 9022, 9023, 9024, 9025, 9026, 9027, 9028, 9029, 9030, 9031, 9032, 9033, 9034, 9035, 9036, 9037, 9038, 9039, 9040, 9041, 9042, 9043, 9044, 9045, 9046, 9047, 9048, 9049, 9050, 9051, 9052, 9053, 9054, 9055, 9056, 9057, 9058, 9059, 9060, 9061, 9062, 9063, 9064, 9065, 9066, 9067, 9068, 9069, 9070, 9071, 9072, 9073, 9074, 9075, 9076, 9077, 9078, 9079, 9080, 9081, 9082, 9083, 9084, 9086, 9087, 9088, 9089, 9090, 9091, 9092, 9093, 9094, 9095, 9096, 9097, 9099, 9100, 9101, 9102, 9103, 9104, 9105, 9106, 9107, 9108, 9109, 9110, 9111, 9112, 9113, 9114, 9115, 9116, 9117, 9118, 9120, 9121, 9122, 9123, 9124, 9125, 9126, 9127, 9128, 9129, 9130, 9131, 9132, 9133, 9134, 9135, 9136, 9137, 9138, 9139, 9140, 9141, 9142, 9144, 9145, 9146, 9147, 9148, 9149, 9150, 9151, 9152, 9153, 9154, 9155, 9156, 9158, 9159, 9160, 9161, 9162, 9163, 9164, 9165, 9166, 9167, 9168, 9169, 9170, 9171, 9173, 9174, 9175, 9176, 9177, 9178, 9181, 9182, 9183, 9184, 9185, 9186, 9187, 9188, 9189, 9190, 9191, 9192, 9193, 9194, 9195, 9196, 9197, 9198, 9199]\n"
     ]
    },
    {
     "data": {
      "text/plain": [
       "list"
      ]
     },
     "execution_count": 44,
     "metadata": {},
     "output_type": "execute_result"
    }
   ],
   "source": [
    "print(Piece.IDGenerator)\n",
    "\n",
    "t = Piece([Coord(0,0), Coord(-1, 0), Coord(1, 0), Coord(0, 1)], pColor=\"BLUE\")\n",
    "u = GreenPiece([Coord(0,0), Coord(1, 0), Coord(0, 1), Coord(1, 1)])\n",
    "v = GreenPiece([Coord(0,0), Coord(1, 0), Coord(0, 1), Coord(1, 1)])\n",
    "\n",
    "t.Upgrade()\n",
    "v.Upgrade()\n",
    "\n",
    "t.SetOrientation(2)\n",
    "\n",
    "\n",
    "print(u.shape)\n",
    "print(t.GetID())\n",
    "print(u.GetID())\n",
    "print(v.GetID())\n",
    "#for i in range(190):\n",
    "#    t.__AssignID__()\n",
    "print(Piece.IDGenerator)\n",
    "type(Piece.IDGenerator)            \n",
    "\n"
   ]
  },
  {
   "cell_type": "code",
   "execution_count": 49,
   "metadata": {
    "scrolled": false
   },
   "outputs": [
    {
     "name": "stdout",
     "output_type": "stream",
     "text": [
      "|_||_||_||_||_||_|\n",
      "|?||?||?||?||?||?|\n",
      "|_||_||_||_||_||_|\n",
      "|_||_||_||_||_||_|\n",
      "|_||_||_||_||_||_|\n",
      "\n",
      "dict_items([(9085, <Pieces.Piece object at 0x7f36f1879bd0>)])\n",
      "|_||_||_||_||_||_|\n",
      "|?||?||?||?||?||?|\n",
      "|_||_||_||B||_||_|\n",
      "|_||_||_||B||B||_|\n",
      "|_||_||_||B||_||_|\n",
      "\n",
      "|_||_||_||_||_||_|\n",
      "|?||?||?||?||?||?|\n",
      "|_||_||_||_||_||_|\n",
      "|_||_||_||_||_||_|\n",
      "|_||_||_||_||_||_|\n",
      "\n",
      "|_||_||_||_||_||_|\n",
      "|?||?||?||?||?||?|\n",
      "|_||_||_||B||_||_|\n",
      "|_||_||_||B||B||_|\n",
      "|_||_||_||B||_||_|\n",
      "\n",
      "|_||B||_||_||_||_|\n",
      "|?||B||B||?||?||?|\n",
      "|_||B||_||_||_||_|\n",
      "|_||_||_||_||_||_|\n",
      "|_||_||_||_||_||_|\n",
      "\n",
      "|_||_||B||_||_||_|\n",
      "|?||?||B||B||?||?|\n",
      "|_||_||B||_||_||_|\n",
      "|_||_||_||_||_||_|\n",
      "|_||_||_||_||_||_|\n",
      "\n",
      "|_||_||_||_||_||_|\n",
      "|?||?||?||?||?||?|\n",
      "|_||_||_||_||_||_|\n",
      "|_||_||_||_||_||_|\n",
      "|_||_||_||_||_||_|\n",
      "\n",
      "dict_items([])\n",
      "|G||G||_||_||_||_|\n",
      "|G||G||B||?||?||?|\n",
      "|_||_||B||B||_||_|\n",
      "|_||_||B||_||_||_|\n",
      "|_||_||_||_||_||_|\n",
      "\n",
      "dict_items([(9085, <Pieces.Piece object at 0x7f36f1879bd0>), (9143, <Pieces.GreenPiece object at 0x7f36f18908d0>)])\n",
      "9143\n",
      "9143\n",
      "9085\n",
      "1\n",
      "1\n",
      "1\n",
      "[9143, 9143, 9085, 1, 1, 1]\n",
      "[] 9143 [9143, 9085, 1, 1, 1]\n",
      "Score: 0\n",
      "[9143] 9143 [9085, 1, 1, 1]\n",
      "Score: 0\n",
      "[9143, 9143] 9085 [1, 1, 1]\n",
      "Score: 10\n",
      "10\n",
      "|G||G||_||_||G||G|\n",
      "|G||G||B||?||G||G|\n",
      "|_||_||B||B||_||_|\n",
      "|_||_||B||_||_||_|\n",
      "|_||_||_||_||_||_|\n",
      "\n",
      "9143\n",
      "9143\n",
      "9085\n",
      "1\n",
      "9180\n",
      "9180\n",
      "[9143, 9143, 9085, 1, 9180, 9180]\n",
      "[] 9143 [9143, 9085, 1, 9180, 9180]\n",
      "Score: 0\n",
      "[9143] 9143 [9085, 1, 9180, 9180]\n",
      "Score: 0\n",
      "[9143, 9143] 9085 [1, 9180, 9180]\n",
      "Score: 10\n",
      "[9143, 9143, 9085, 1] 9180 [9180]\n",
      "Score: 20\n",
      "[9143, 9143, 9085, 1, 9180] 9180 []\n",
      "Score: 40\n",
      "40\n"
     ]
    }
   ],
   "source": [
    "a = Board()\n",
    "a.PrintBoard()\n",
    "a.PlacePiece(t, Coord(3, 3))\n",
    "print(a.pieceIDs.items())\n",
    "a.PrintBoard()\n",
    "a.ClearBoard()\n",
    "a.PrintBoard()\n",
    "a.PlacePiece(t, Coord(3, 3))\n",
    "a.PrintBoard()\n",
    "a.PlacePiece(t, Coord(1, 1))\n",
    "a.PrintBoard()\n",
    "a.PlacePiece(t, Coord(2, 1))\n",
    "a.PrintBoard()\n",
    "a.RemovePiece(t.GetID())\n",
    "a.PrintBoard()\n",
    "print(a.pieceIDs.items())\n",
    "\n",
    "a.PlacePiece(t, Coord(2, 2))\n",
    "u.SetOrientation(2)\n",
    "a.PlacePiece(u, Coord(0, 0))\n",
    "a.PrintBoard()\n",
    "print(a.pieceIDs.items())\n",
    "\n",
    "print(a.Activate())\n",
    "\n",
    "v.SetOrientation(2)\n",
    "a.PlacePiece(v, Coord(4, 0))\n",
    "a.PrintBoard()\n",
    "print(a.Activate())\n"
   ]
  },
  {
   "cell_type": "code",
   "execution_count": 30,
   "metadata": {},
   "outputs": [
    {
     "name": "stdout",
     "output_type": "stream",
     "text": [
      "|B||_||_||_||_||_|\n",
      "|B||B||G||G||G||G|\n",
      "|B||_||G||G||G||G|\n",
      "|_||_||_||_||_||_|\n",
      "|_||_||_||_||_||_|\n",
      "\n",
      "9098\n",
      "9098\n",
      "9157\n",
      "9157\n",
      "9119\n",
      "9119\n",
      "[9098, 9098, 9157, 9157, 9119, 9119]\n",
      "[] 9098 [9098, 9157, 9157, 9119, 9119]\n",
      "Score: 10\n",
      "[9098] 9098 [9157, 9157, 9119, 9119]\n",
      "Score: 10\n",
      "[9098, 9098] 9157 [9157, 9119, 9119]\n",
      "Score: 20\n",
      "[9098, 9098, 9157] 9157 [9119, 9119]\n",
      "Score: 20\n",
      "[9098, 9098, 9157, 9157] 9119 [9119]\n",
      "Score: 40\n",
      "[9098, 9098, 9157, 9157, 9119] 9119 []\n",
      "Score: 80\n"
     ]
    },
    {
     "data": {
      "text/plain": [
       "80"
      ]
     },
     "execution_count": 30,
     "metadata": {},
     "output_type": "execute_result"
    }
   ],
   "source": [
    "a.ClearBoard()\n",
    "a.PlacePiece(t, Coord(0, 1))\n",
    "a.PlacePiece(u, Coord(2, 1))\n",
    "a.PlacePiece(v, Coord(4, 1))\n",
    "a.PrintBoard()\n",
    "a.Activate()"
   ]
  },
  {
   "cell_type": "code",
   "execution_count": 19,
   "metadata": {},
   "outputs": [
    {
     "name": "stdout",
     "output_type": "stream",
     "text": [
      "[Coord(X=0, Y=0), Coord(X=-1, Y=0), Coord(X=1, Y=0), Coord(X=0, Y=-1)]\n",
      "1\n",
      "|_||_||_||_||_||_|\n",
      "|#||#||#||#||#||#|\n",
      "|_||_||_||B||_||_|\n",
      "|_||_||B||B||B||_|\n",
      "|_||_||_||_||_||_|\n",
      "\n",
      "[Coord(X=0, Y=0), Coord(X=0, Y=-1), Coord(X=0, Y=1), Coord(X=1, Y=0)]\n",
      "2\n",
      "|_||_||_||_||_||_|\n",
      "|#||#||#||#||#||#|\n",
      "|_||_||_||B||_||_|\n",
      "|_||_||_||B||B||_|\n",
      "|_||_||_||B||_||_|\n",
      "\n",
      "[Coord(X=0, Y=0), Coord(X=1, Y=0), Coord(X=-1, Y=0), Coord(X=0, Y=1)]\n",
      "3\n",
      "|_||_||_||_||_||_|\n",
      "|#||#||#||#||#||#|\n",
      "|_||_||_||_||_||_|\n",
      "|_||_||B||B||B||_|\n",
      "|_||_||_||B||_||_|\n",
      "\n",
      "[Coord(X=0, Y=0), Coord(X=0, Y=1), Coord(X=0, Y=-1), Coord(X=-1, Y=0)]\n",
      "4\n",
      "|_||_||_||_||_||_|\n",
      "|#||#||#||#||#||#|\n",
      "|_||_||_||B||_||_|\n",
      "|_||_||B||B||_||_|\n",
      "|_||_||_||B||_||_|\n",
      "\n"
     ]
    }
   ],
   "source": [
    "a.ClearBoard()\n",
    "t.SetOrientation(1)\n",
    "for orientation in range(1,5):\n",
    "    t.SetOrientation(orientation)\n",
    "    print(t.shape)\n",
    "    print(orientation)\n",
    "    a.PlacePiece(t, Coord(3, 3))\n",
    "    a.PrintBoard()"
   ]
  },
  {
   "cell_type": "code",
   "execution_count": 32,
   "metadata": {},
   "outputs": [
    {
     "data": {
      "text/plain": [
       "{0: QI Accropolis, 1: QI fry}"
      ]
     },
     "execution_count": 32,
     "metadata": {},
     "output_type": "execute_result"
    }
   ],
   "source": [
    "class QI:\n",
    "    def __init__(self, name):\n",
    "        self.name = name\n",
    "        \n",
    "    def __repr__(self):\n",
    "        return \"QI \" + self.name\n",
    "    def clear(self):\n",
    "        self.name = \"Accropolis\"\n",
    "    def addition(self, value):\n",
    "        return value + 10\n",
    "    def echo(self, value):\n",
    "        return value\n",
    "\n",
    "    \n",
    "alan = QI(\"alan\") #Create instance of Alan\n",
    "fry = QI(\"fry\")\n",
    "\n",
    "cast = {} #Dictionary of class objects\n",
    "cast[0] = alan #set dict 0:alan\n",
    "cast[1] = fry\n",
    "\n",
    "alan.clear() #Change alan's name to Accropolis\n",
    "alan \n",
    "cast #cast also changed, so we sent a refference of alan and not a copy"
   ]
  },
  {
   "cell_type": "code",
   "execution_count": 33,
   "metadata": {},
   "outputs": [
    {
     "ename": "AttributeError",
     "evalue": "'Fry' object has no attribute 'adfsa'",
     "output_type": "error",
     "traceback": [
      "\u001b[0;31m---------------------------------------------------------------------------\u001b[0m",
      "\u001b[0;31mAttributeError\u001b[0m                            Traceback (most recent call last)",
      "\u001b[0;32m<ipython-input-33-8593de57742d>\u001b[0m in \u001b[0;36m<module>\u001b[0;34m\u001b[0m\n\u001b[1;32m     14\u001b[0m \u001b[0malan\u001b[0m\u001b[0;34m.\u001b[0m\u001b[0mecho\u001b[0m\u001b[0;34m(\u001b[0m\u001b[0;34m\"greetings\"\u001b[0m\u001b[0;34m)\u001b[0m\u001b[0;34m\u001b[0m\u001b[0;34m\u001b[0m\u001b[0m\n\u001b[1;32m     15\u001b[0m \u001b[0mfry\u001b[0m\u001b[0;34m.\u001b[0m\u001b[0mecho\u001b[0m\u001b[0;34m(\u001b[0m\u001b[0;34m\"greetings\"\u001b[0m\u001b[0;34m)\u001b[0m\u001b[0;34m\u001b[0m\u001b[0;34m\u001b[0m\u001b[0m\n\u001b[0;32m---> 16\u001b[0;31m \u001b[0mfry\u001b[0m\u001b[0;34m.\u001b[0m\u001b[0madfsa\u001b[0m\u001b[0;34m\u001b[0m\u001b[0;34m\u001b[0m\u001b[0m\n\u001b[0m",
      "\u001b[0;31mAttributeError\u001b[0m: 'Fry' object has no attribute 'adfsa'"
     ]
    }
   ],
   "source": [
    "class Fry(QI):\n",
    "    def __repr__(self):\n",
    "        return \"Host \" + self.name\n",
    "    \n",
    "    def addition(self, value):\n",
    "        return value+100\n",
    "    \n",
    "alan = QI(\"alan\")\n",
    "fry = Fry(\"fry\")\n",
    "fry\n",
    "alan\n",
    "fry.addition(50)\n",
    "alan.addition(50)\n",
    "alan.echo(\"greetings\")\n",
    "fry.echo(\"greetings\")\n",
    "fry.adfsa"
   ]
  },
  {
   "cell_type": "code",
   "execution_count": 337,
   "metadata": {},
   "outputs": [
    {
     "name": "stdout",
     "output_type": "stream",
     "text": [
      "[Coord(X=0, Y=0), Coord(X=0, Y=-1), Coord(X=0, Y=1), Coord(X=-1, Y=0)]\n"
     ]
    }
   ],
   "source": [
    "t1 = Piece([Coord(0,0), Coord(-1, 0), Coord(1, 0), Coord(0, 1)])\n",
    "u1 = Piece([Coord(0,0), Coord(1, 0), Coord(0, 1), Coord(1, 1)])\n",
    "print(t1.shape)"
   ]
  },
  {
   "cell_type": "code",
   "execution_count": 257,
   "metadata": {
    "collapsed": true
   },
   "outputs": [
    {
     "ename": "AttributeError",
     "evalue": "'range' object has no attribute 'remove'",
     "output_type": "error",
     "traceback": [
      "\u001b[0;31m---------------------------------------------------------------------------\u001b[0m",
      "\u001b[0;31mAttributeError\u001b[0m                            Traceback (most recent call last)",
      "\u001b[0;32m<ipython-input-257-774e7e05170d>\u001b[0m in \u001b[0;36m<module>\u001b[0;34m\u001b[0m\n\u001b[1;32m      1\u001b[0m \u001b[0mq\u001b[0m \u001b[0;34m=\u001b[0m \u001b[0mrange\u001b[0m\u001b[0;34m(\u001b[0m\u001b[0;36m20\u001b[0m\u001b[0;34m)\u001b[0m\u001b[0;34m\u001b[0m\u001b[0;34m\u001b[0m\u001b[0m\n\u001b[0;32m----> 2\u001b[0;31m \u001b[0mq\u001b[0m\u001b[0;34m.\u001b[0m\u001b[0mremove\u001b[0m\u001b[0;34m(\u001b[0m\u001b[0;36m7\u001b[0m\u001b[0;34m)\u001b[0m\u001b[0;34m\u001b[0m\u001b[0;34m\u001b[0m\u001b[0m\n\u001b[0m",
      "\u001b[0;31mAttributeError\u001b[0m: 'range' object has no attribute 'remove'"
     ]
    }
   ],
   "source": [
    "q = range(20)\n",
    "q.remove(7)"
   ]
  },
  {
   "cell_type": "code",
   "execution_count": null,
   "metadata": {},
   "outputs": [],
   "source": []
  }
 ],
 "metadata": {
  "kernelspec": {
   "display_name": "Python 3",
   "language": "python",
   "name": "python3"
  },
  "language_info": {
   "codemirror_mode": {
    "name": "ipython",
    "version": 3
   },
   "file_extension": ".py",
   "mimetype": "text/x-python",
   "name": "python",
   "nbconvert_exporter": "python",
   "pygments_lexer": "ipython3",
   "version": "3.7.4"
  }
 },
 "nbformat": 4,
 "nbformat_minor": 2
}

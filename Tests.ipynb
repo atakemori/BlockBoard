{
 "cells": [
  {
   "cell_type": "code",
   "execution_count": 4,
   "metadata": {},
   "outputs": [],
   "source": [
    "#pip install import_ipynb\n",
    "import unittest\n",
    "import import_ipynb\n",
    "from Main import Board, Coord, Piece"
   ]
  },
  {
   "cell_type": "code",
   "execution_count": 9,
   "metadata": {},
   "outputs": [],
   "source": [
    "class BasicPieceFunctionTest(unittest.TestCase):\n",
    "    def setUp(self):\n",
    "        self.smallPiece = Piece([Coord(0,0)])\n",
    "        self.mediumPiece = Piece([Coord(0,0), Coord(1,0), Coord(0,1), Coord(1,1)])\n",
    "        self.largePiece = Piece([Coord(0,0), Coord(1,1), Coord(1,0), Coord(1,-1), Coord(0,1), Coord(0,-1), Coord(-1,1), Coord(-1,0), Coord(-1,-1)])\n",
    "        self.pieces = [self.smallPiece, self.mediumPiece, self.largePiece]\n",
    "    #@unittest.skip(\"idk if i want to test internal representations\")    \n",
    "    #def test_piece_internal_representation(self):\n",
    "    #    for piece in self.pieces:\n",
    "    #        with self.subTest(piece=Piece):\n",
    "                \n",
    "    #def test_piece_rotation(self):\n",
    "        \n",
    "        "
   ]
  },
  {
   "cell_type": "code",
   "execution_count": 7,
   "metadata": {},
   "outputs": [],
   "source": [
    "class BasicBoardFunctionTest(unittest.TestCase):\n",
    "    def setUp(self):\n",
    "        #New setUp is run everytime a new def test begins, but not for subtests i think.\n",
    "        self.a = Board(width=6, height=5, name=\"Test-Board\", owner=\"test\")\n",
    "        self.a.activeLine = [Coord(i, 1) for i in range(self.a.width)]\n",
    "        self.emptyBoard = emptyBoard = [[0 for x in range(self.a.height)] for x in range(self.a.width)]\n",
    "        for coord in self.a.activeLine:\n",
    "            emptyBoard[coord.X][coord.Y] = 1\n",
    "        \n",
    "    def test_empty_board(self):\n",
    "        emptyBoard = [[0 for x in range(self.a.height)] for x in range(self.a.width)] \n",
    "        for coord in self.a.activeLine:\n",
    "            emptyBoard[coord.X][coord.Y] = 1\n",
    "        self.assertEqual(self.a.layout, emptyBoard, \"Starting layout not set-up right.\")\n",
    "    \n",
    "    #@unittest.skip(\"testing skipping test\")\n",
    "    def test_single_block_placement(self):\n",
    "        aPiece = Piece([Coord(0,0)])\n",
    "        aPieceID = aPiece.GetID()\n",
    "        \n",
    "        for X in range(self.a.width):\n",
    "            for Y in range(self.a.height):\n",
    "                currentValue = self.emptyBoard[X][Y]\n",
    "                with self.subTest(X=X, Y=Y):\n",
    "                    self.emptyBoard[X][Y] = aPieceID\n",
    "                    self.a.PlacePiece(aPiece, Coord(X, Y))\n",
    "                    self.assertEqual(self.emptyBoard, self.a.layout)\n",
    "                self.emptyBoard[X][Y] = currentValue\n",
    "                print(X, Y)\n",
    "                \n",
    "    #def"
   ]
  },
  {
   "cell_type": "code",
   "execution_count": null,
   "metadata": {},
   "outputs": [],
   "source": []
  },
  {
   "cell_type": "code",
   "execution_count": 10,
   "metadata": {},
   "outputs": [
    {
     "name": "stderr",
     "output_type": "stream",
     "text": [
      "test_empty_board (__main__.BasicBoardFunctionTest) ... ok\n",
      "test_single_block_placement (__main__.BasicBoardFunctionTest) ... "
     ]
    },
    {
     "name": "stdout",
     "output_type": "stream",
     "text": [
      "0 0\n",
      "0 1\n",
      "0 2\n",
      "0 3\n",
      "0 4\n",
      "1 0\n",
      "1 1\n",
      "1 2\n",
      "1 3\n",
      "1 4\n",
      "2 0\n",
      "2 1\n",
      "2 2\n",
      "2 3\n",
      "2 4\n",
      "3 0\n",
      "3 1\n",
      "3 2\n",
      "3 3\n",
      "3 4\n",
      "4 0\n",
      "4 1\n",
      "4 2\n",
      "4 3\n",
      "4 4\n",
      "5 0\n",
      "5 1\n",
      "5 2\n",
      "5 3\n",
      "5 4\n"
     ]
    },
    {
     "name": "stderr",
     "output_type": "stream",
     "text": [
      "ok\n",
      "\n",
      "----------------------------------------------------------------------\n",
      "Ran 2 tests in 0.046s\n",
      "\n",
      "OK\n"
     ]
    },
    {
     "data": {
      "text/plain": [
       "<unittest.main.TestProgram at 0x749f7d56b150>"
      ]
     },
     "execution_count": 10,
     "metadata": {},
     "output_type": "execute_result"
    }
   ],
   "source": [
    "unittest.main(argv=[''], verbosity=2, exit=False)"
   ]
  }
 ],
 "metadata": {
  "kernelspec": {
   "display_name": "Python 3",
   "language": "python",
   "name": "python3"
  },
  "language_info": {
   "codemirror_mode": {
    "name": "ipython",
    "version": 3
   },
   "file_extension": ".py",
   "mimetype": "text/x-python",
   "name": "python",
   "nbconvert_exporter": "python",
   "pygments_lexer": "ipython3",
   "version": "3.7.4"
  }
 },
 "nbformat": 4,
 "nbformat_minor": 2
}

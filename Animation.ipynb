{
 "cells": [
  {
   "cell_type": "code",
   "execution_count": 51,
   "metadata": {
    "scrolled": true
   },
   "outputs": [],
   "source": [
    "import import_ipynb\n",
    "\n",
    "from Pieces import Piece, GreenPiece, YellowPiece, BluePiece, MirrorPiece, Coord\n",
    "from Main import Board"
   ]
  },
  {
   "cell_type": "code",
   "execution_count": 52,
   "metadata": {},
   "outputs": [],
   "source": [
    "import pygame\n"
   ]
  },
  {
   "cell_type": "code",
   "execution_count": null,
   "metadata": {},
   "outputs": [],
   "source": []
  },
  {
   "cell_type": "code",
   "execution_count": 1,
   "metadata": {},
   "outputs": [
    {
     "name": "stdout",
     "output_type": "stream",
     "text": [
      "pygame 1.9.6\n",
      "Hello from the pygame community. https://www.pygame.org/contribute.html\n"
     ]
    },
    {
     "ename": "SystemExit",
     "evalue": "",
     "output_type": "error",
     "traceback": [
      "An exception has occurred, use %tb to see the full traceback.\n",
      "\u001b[1;31mSystemExit\u001b[0m\n"
     ]
    },
    {
     "name": "stderr",
     "output_type": "stream",
     "text": [
      "C:\\Users\\Takemori Desktop\\.conda\\envs\\Board\\lib\\site-packages\\IPython\\core\\interactiveshell.py:3334: UserWarning: To exit: use 'exit', 'quit', or Ctrl-D.\n",
      "  warn(\"To exit: use 'exit', 'quit', or Ctrl-D.\", stacklevel=1)\n"
     ]
    }
   ],
   "source": [
    "import sys, pygame\n",
    "pygame.init()\n",
    "\n",
    "scale=3\n",
    "size = width, height = 320*scale, 240*scale\n",
    "speed = [2, 2]\n",
    "black = 0, 0, 0\n",
    "\n",
    "screen = pygame.display.set_mode(size)\n",
    "\n",
    "ball = pygame.image.load(\"intro_ball.gif\")\n",
    "ballrect = ball.get_rect()\n",
    "\n",
    "while 1:\n",
    "    for event in pygame.event.get():\n",
    "        if event.type == pygame.QUIT: \n",
    "            pygame.quit()\n",
    "            sys.exit()\n",
    "\n",
    "    ballrect = ballrect.move(speed)\n",
    "    if ballrect.left < 0 or ballrect.right > width:\n",
    "        speed[0] = -speed[0]\n",
    "    if ballrect.top < 0 or ballrect.bottom > height:\n",
    "        speed[1] = -speed[1]\n",
    "\n",
    "    screen.fill(black)\n",
    "    screen.blit(ball, ballrect)\n",
    "    pygame.display.flip()"
   ]
  },
  {
   "cell_type": "code",
   "execution_count": 2,
   "metadata": {},
   "outputs": [],
   "source": []
  },
  {
   "cell_type": "code",
   "execution_count": 56,
   "metadata": {},
   "outputs": [
    {
     "ename": "SystemExit",
     "evalue": "",
     "output_type": "error",
     "traceback": [
      "An exception has occurred, use %tb to see the full traceback.\n",
      "\u001b[1;31mSystemExit\u001b[0m\n"
     ]
    }
   ],
   "source": [
    "class GameObject:\n",
    "    def __init__(self, image, height, speed):\n",
    "        self.speed = speed\n",
    "        self.image = image\n",
    "        self.pos = image.get_rect().move(0, height)\n",
    "    def move(self):\n",
    "        self.pos = self.pos.move(0, self.speed)\n",
    "        if self.pos.right > 600:\n",
    "            self.pos.left = 0\n",
    "\n",
    "screen = pygame.display.set_mode((640, 480))\n",
    "player = pygame.image.load('1x1.png').convert()\n",
    "background = pygame.image.load('11x8_BG.png').convert()\n",
    "screen.blit(background, (0, 0))\n",
    "objects = []\n",
    "for x in range(10):                    #create 10 objects</i>\n",
    "    o = GameObject(player, x*40, x)\n",
    "    objects.append(o)\n",
    "while 1:\n",
    "    for event in pygame.event.get():\n",
    "        if event.type in (pygame.QUIT, pygame.KEYDOWN):\n",
    "            pygame.quit()\n",
    "            sys.exit()\n",
    "    for o in objects:\n",
    "        screen.blit(background, o.pos, o.pos)\n",
    "    for o in objects:\n",
    "        o.move()\n",
    "        screen.blit(o.image, o.pos)\n",
    "    pygame.display.update()\n",
    "    pygame.time.delay(100)"
   ]
  },
  {
   "cell_type": "code",
   "execution_count": 50,
   "metadata": {},
   "outputs": [
    {
     "ename": "SystemExit",
     "evalue": "",
     "output_type": "error",
     "traceback": [
      "An exception has occurred, use %tb to see the full traceback.\n",
      "\u001b[1;31mSystemExit\u001b[0m\n"
     ]
    }
   ],
   "source": [
    "import pygame\n",
    "import sys\n",
    "\n",
    "offset = Coord(45, 35)\n",
    "block=60\n",
    "\n",
    "\n",
    "screen = pygame.display.set_mode((750, 550))\n",
    "sq = pygame.image.load(\"1x1.png\").convert()\n",
    "border = pygame.image.load(\"11x8_BG.png\").convert()\n",
    "base = pygame.image.load(\"Base.png\").convert()\n",
    "base.scroll(-105, -95)\n",
    "    \n",
    "i=0\n",
    "screen.blit(border, (0,0))\n",
    "X=offset.X\n",
    "Y=offset.Y\n",
    "while i < 500:\n",
    "    for event in pygame.event.get():\n",
    "        if event.type in (pygame.QUIT, pygame.KEYDOWN):\n",
    "            pygame.quit()\n",
    "            sys.exit()\n",
    "\n",
    "    screen.blit(base, (X,Y), pygame.Rect(0,0,60, 60))#For use with a less complex background\n",
    "    #screen.blit(bg, (0,0))\n",
    "    X = int(i//block)*block + offset.X\n",
    "    Y = (i//(block*2))*block + offset.Y\n",
    "    screen.blit(sq, (X, Y))\n",
    "    pygame.display.update()\n",
    "    pygame.time.delay(20)\n",
    "    i += 1\n",
    "\n",
    "\n",
    "pygame.quit()\n",
    "sys.exit()"
   ]
  },
  {
   "cell_type": "code",
   "execution_count": 77,
   "metadata": {},
   "outputs": [],
   "source": [
    "pygame.quit()"
   ]
  },
  {
   "cell_type": "code",
   "execution_count": 70,
   "metadata": {},
   "outputs": [
    {
     "data": {
      "text/plain": [
       "Coord(X=0, Y=0)"
      ]
     },
     "execution_count": 70,
     "metadata": {},
     "output_type": "execute_result"
    }
   ],
   "source": [
    "from operator import sub\n",
    "offs = map(sub, sq.get_size(),sq.get_size())\n",
    "Coord(next(offs), next(offs))"
   ]
  },
  {
   "cell_type": "code",
   "execution_count": 115,
   "metadata": {},
   "outputs": [],
   "source": [
    "import pygame\n",
    "import sys\n",
    "from operator import sub\n",
    "\n",
    "\n",
    "\n",
    "#MainLoop\n",
    "class Animator(object):\n",
    "    \"\"\"Animator Class controls the screen and translates mouse clicks into board function calls\"\"\"\n",
    "    def __init__(self, board, piecesList):\n",
    "        self.board = board\n",
    "        self.piecesList = piecesList\n",
    "        \n",
    "        \n",
    "        self.screenSize = pygame.Rect(0,0,750, 550)\n",
    "        #self.screen = pygame.display.set_mode((750, 550))\n",
    "        \n",
    "        \"\"\"\n",
    "        self.sq = pygame.image.load(\"1x1.png\").convert()\n",
    "        self.sqLen = sq.get_width()\n",
    "        \n",
    "        \n",
    "        self.border = pygame.image.load(\"11x8_BG.png\").convert()\n",
    "        self.base = pygame.image.load(\"Base2.png\").convert()\n",
    "        \n",
    "        offset = map(sub, self.border.get_size(), self.base.get_size())\n",
    "        #definitely more complicated, but i like the idea so im keeping it incase i need it in the future.\n",
    "        self.offset = Coord(next(offset)//2, next(offset)//2)\n",
    "        \"\"\"\n",
    "    \n",
    "    def LoadImages(self):\n",
    "        self.sq = pygame.image.load(\"1x1.png\").convert()\n",
    "        self.sqLen = sq.get_width()\n",
    "        print(self.sqLen)\n",
    "        \n",
    "        \n",
    "        self.border = pygame.image.load(\"11x8_BG.png\").convert()\n",
    "        self.base = pygame.image.load(\"Base2.png\").convert()\n",
    "        \n",
    "        offset = map(sub, self.border.get_size(), self.base.get_size())\n",
    "        #definitely more complicated, but i like the idea so im keeping it incase i need it in the future.\n",
    "        self.offset = Coord(next(offset)//2, next(offset)//2)\n",
    "        \n",
    "    def StartDisplay(self):\n",
    "        self.screen = pygame.display.set_mode((750, 550))\n",
    "        self.LoadImages()\n",
    "        self.screen.blit(self.border, (0,0))\n",
    "        \n",
    "        self.MainLoop()\n",
    "        \n",
    "    def MainLoop(self):\n",
    "        sqLen=self.sqLen\n",
    "        offset = self.offset\n",
    "        i=0\n",
    "        pieceX = offset.X\n",
    "        pieceY = offset.Y\n",
    "        while i < 500:\n",
    "            for event in pygame.event.get():\n",
    "                if event.type in (pygame.QUIT, pygame.KEYDOWN):\n",
    "                    pygame.quit()\n",
    "                    sys.exit()\n",
    "\n",
    "            self.screen.blit(self.base, (pieceX, pieceY), pygame.Rect(0,0,sqLen, sqLen))#For use with a less complex background\n",
    "            #screen.blit(bg, (0,0))\n",
    "            pieceX = int(i//sqLen)*sqLen + offset.X\n",
    "            pieceY = (i//(sqLen*2))*sqLen + offset.Y\n",
    "            self.screen.blit(self.sq, (pieceX, pieceY))\n",
    "            pygame.display.update()\n",
    "            pygame.time.delay(20)\n",
    "            i += 1\n",
    "\n",
    "\n",
    "\n",
    "\n"
   ]
  },
  {
   "cell_type": "code",
   "execution_count": 116,
   "metadata": {},
   "outputs": [
    {
     "name": "stdout",
     "output_type": "stream",
     "text": [
      "60\n"
     ]
    }
   ],
   "source": [
    "myGame = Animator(Board(), [])\n",
    "myGame.StartDisplay()"
   ]
  },
  {
   "cell_type": "code",
   "execution_count": 112,
   "metadata": {},
   "outputs": [
    {
     "data": {
      "text/plain": [
       "60"
      ]
     },
     "execution_count": 112,
     "metadata": {},
     "output_type": "execute_result"
    }
   ],
   "source": [
    "myGame.sqLen"
   ]
  },
  {
   "cell_type": "code",
   "execution_count": 111,
   "metadata": {},
   "outputs": [],
   "source": [
    "pygame.quit()"
   ]
  }
 ],
 "metadata": {
  "kernelspec": {
   "display_name": "Python 3",
   "language": "python",
   "name": "python3"
  },
  "language_info": {
   "codemirror_mode": {
    "name": "ipython",
    "version": 3
   },
   "file_extension": ".py",
   "mimetype": "text/x-python",
   "name": "python",
   "nbconvert_exporter": "python",
   "pygments_lexer": "ipython3",
   "version": "3.7.4"
  }
 },
 "nbformat": 4,
 "nbformat_minor": 2
}

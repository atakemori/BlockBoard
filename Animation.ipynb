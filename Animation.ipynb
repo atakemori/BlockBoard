{
 "cells": [
  {
   "cell_type": "code",
   "execution_count": 6,
   "metadata": {
    "scrolled": true
   },
   "outputs": [],
   "source": [
    "import import_ipynb\n",
    "\n",
    "from Pieces import Piece, GreenPiece, YellowPiece, BluePiece, MirrorPiece, Coord\n",
    "from Main import Board"
   ]
  },
  {
   "cell_type": "code",
   "execution_count": 7,
   "metadata": {},
   "outputs": [],
   "source": [
    "import pygame\n"
   ]
  },
  {
   "cell_type": "code",
   "execution_count": null,
   "metadata": {},
   "outputs": [],
   "source": []
  },
  {
   "cell_type": "code",
   "execution_count": 10,
   "metadata": {},
   "outputs": [
    {
     "ename": "SystemExit",
     "evalue": "",
     "output_type": "error",
     "traceback": [
      "An exception has occurred, use %tb to see the full traceback.\n",
      "\u001b[1;31mSystemExit\u001b[0m\n"
     ]
    },
    {
     "name": "stderr",
     "output_type": "stream",
     "text": [
      "C:\\Users\\Takemori Desktop\\.conda\\envs\\Board\\lib\\site-packages\\IPython\\core\\interactiveshell.py:3334: UserWarning: To exit: use 'exit', 'quit', or Ctrl-D.\n",
      "  warn(\"To exit: use 'exit', 'quit', or Ctrl-D.\", stacklevel=1)\n"
     ]
    }
   ],
   "source": [
    "import sys, pygame\n",
    "pygame.init()\n",
    "\n",
    "scale=3\n",
    "size = width, height = 320*scale, 240*scale\n",
    "speed = [2, 2]\n",
    "black = 0, 0, 0\n",
    "\n",
    "screen = pygame.display.set_mode(size)\n",
    "\n",
    "ball = pygame.image.load(\"intro_ball.gif\")\n",
    "ballrect = ball.get_rect()\n",
    "\n",
    "while 1:\n",
    "    for event in pygame.event.get():\n",
    "        if event.type == pygame.QUIT: \n",
    "            pygame.quit()\n",
    "            sys.exit()\n",
    "\n",
    "    ballrect = ballrect.move(speed)\n",
    "    if ballrect.left < 0 or ballrect.right > width:\n",
    "        speed[0] = -speed[0]\n",
    "    if ballrect.top < 0 or ballrect.bottom > height:\n",
    "        speed[1] = -speed[1]\n",
    "\n",
    "    screen.fill(black)\n",
    "    screen.blit(ball, ballrect)\n",
    "    pygame.display.flip()"
   ]
  },
  {
   "cell_type": "code",
   "execution_count": 2,
   "metadata": {},
   "outputs": [],
   "source": []
  },
  {
   "cell_type": "code",
   "execution_count": 56,
   "metadata": {},
   "outputs": [
    {
     "ename": "SystemExit",
     "evalue": "",
     "output_type": "error",
     "traceback": [
      "An exception has occurred, use %tb to see the full traceback.\n",
      "\u001b[1;31mSystemExit\u001b[0m\n"
     ]
    }
   ],
   "source": [
    "class GameObject:\n",
    "    def __init__(self, image, height, speed):\n",
    "        self.speed = speed\n",
    "        self.image = image\n",
    "        self.pos = image.get_rect().move(0, height)\n",
    "    def move(self):\n",
    "        self.pos = self.pos.move(0, self.speed)\n",
    "        if self.pos.right > 600:\n",
    "            self.pos.left = 0\n",
    "\n",
    "screen = pygame.display.set_mode((640, 480))\n",
    "player = pygame.image.load('1x1.png').convert()\n",
    "background = pygame.image.load('11x8_BG.png').convert()\n",
    "screen.blit(background, (0, 0))\n",
    "objects = []\n",
    "for x in range(10):                    #create 10 objects</i>\n",
    "    o = GameObject(player, x*40, x)\n",
    "    objects.append(o)\n",
    "while 1:\n",
    "    for event in pygame.event.get():\n",
    "        if event.type in (pygame.QUIT, pygame.KEYDOWN):\n",
    "            pygame.quit()\n",
    "            sys.exit()\n",
    "    for o in objects:\n",
    "        screen.blit(background, o.pos, o.pos)\n",
    "    for o in objects:\n",
    "        o.move()\n",
    "        screen.blit(o.image, o.pos)\n",
    "    pygame.display.update()\n",
    "    pygame.time.delay(100)"
   ]
  },
  {
   "cell_type": "code",
   "execution_count": 50,
   "metadata": {},
   "outputs": [
    {
     "ename": "SystemExit",
     "evalue": "",
     "output_type": "error",
     "traceback": [
      "An exception has occurred, use %tb to see the full traceback.\n",
      "\u001b[1;31mSystemExit\u001b[0m\n"
     ]
    }
   ],
   "source": [
    "import pygame\n",
    "import sys\n",
    "\n",
    "offset = Coord(45, 35)\n",
    "block=60\n",
    "\n",
    "\n",
    "screen = pygame.display.set_mode((750, 550))\n",
    "sq = pygame.image.load(\"1x1.png\").convert()\n",
    "border = pygame.image.load(\"11x8_BG.png\").convert()\n",
    "base = pygame.image.load(\"Base.png\").convert()\n",
    "base.scroll(-105, -95)\n",
    "    \n",
    "i=0\n",
    "screen.blit(border, (0,0))\n",
    "X=offset.X\n",
    "Y=offset.Y\n",
    "while i < 500:\n",
    "    for event in pygame.event.get():\n",
    "        if event.type in (pygame.QUIT, pygame.KEYDOWN):\n",
    "            pygame.quit()\n",
    "            sys.exit()\n",
    "\n",
    "    screen.blit(base, (X,Y), pygame.Rect(0,0,60, 60))#For use with a less complex background\n",
    "    #screen.blit(bg, (0,0))\n",
    "    X = int(i//block)*block + offset.X\n",
    "    Y = (i//(block*2))*block + offset.Y\n",
    "    screen.blit(sq, (X, Y))\n",
    "    pygame.display.update()\n",
    "    pygame.time.delay(20)\n",
    "    i += 1\n",
    "\n",
    "\n",
    "pygame.quit()\n",
    "sys.exit()"
   ]
  },
  {
   "cell_type": "code",
   "execution_count": 9,
   "metadata": {},
   "outputs": [],
   "source": [
    "pygame.quit()"
   ]
  },
  {
   "cell_type": "code",
   "execution_count": 70,
   "metadata": {},
   "outputs": [
    {
     "data": {
      "text/plain": [
       "Coord(X=0, Y=0)"
      ]
     },
     "execution_count": 70,
     "metadata": {},
     "output_type": "execute_result"
    }
   ],
   "source": [
    "from operator import sub\n",
    "offs = map(sub, sq.get_size(),sq.get_size())\n",
    "Coord(next(offs), next(offs))"
   ]
  },
  {
   "cell_type": "code",
   "execution_count": 112,
   "metadata": {},
   "outputs": [],
   "source": [
    "import pygame\n",
    "import pygame.mouse as mouse\n",
    "import sys\n",
    "from operator import sub\n",
    "\n",
    "\n",
    "\n",
    "#MainLoop\n",
    "class Animator(object):\n",
    "    \"\"\"Animator Class controls the screen and translates mouse clicks into board function calls\"\"\"\n",
    "    def __init__(self, board, piecesList):\n",
    "        self.board = board\n",
    "        self.piecesList = piecesList\n",
    "        \n",
    "        \n",
    "        self.boardXLimit = 10\n",
    "        self.boardYLimit = 7\n",
    "        \n",
    "        \n",
    "        \n",
    "        self.screenSize = pygame.Rect(0,0,750, 550)\n",
    "        #self.screen = pygame.display.set_mode((750, 550))\n",
    "        \n",
    "        \"\"\"\n",
    "        self.sq = pygame.image.load(\"1x1.png\").convert()\n",
    "        self.sqLen = sq.get_width()\n",
    "        \n",
    "        \n",
    "        self.border = pygame.image.load(\"11x8_BG.png\").convert()\n",
    "        self.base = pygame.image.load(\"Base2.png\").convert()\n",
    "        \n",
    "        offset = map(sub, self.border.get_size(), self.base.get_size())\n",
    "        #definitely more complicated, but i like the idea so im keeping it incase i need it in the future.\n",
    "        self.offset = Coord(next(offset)//2, next(offset)//2)\n",
    "        \"\"\"\n",
    "    \n",
    "    def LoadImages(self):\n",
    "        self.sq = pygame.image.load(\"1x1.png\").convert()\n",
    "        self.sqLen = self.sq.get_width()\n",
    "        print(self.sqLen)\n",
    "        \n",
    "        \n",
    "        self.border = pygame.image.load(\"11x8_BG.png\").convert()\n",
    "        self.base = pygame.image.load(\"Base2.png\").convert()\n",
    "        \n",
    "        offset = map(sub, self.border.get_size(), self.base.get_size()) #subtract the two rect tuples to get the needed offset by mapping SUBtract\n",
    "        #definitely more complicated, but i like the idea so im keeping it incase i need it in the future.\n",
    "        self.offset = Coord(next(offset)//2, next(offset)//2)\n",
    "        \n",
    "    def StartDisplay(self):\n",
    "        self.screen = pygame.display.set_mode((750, 550))\n",
    "        self.LoadImages()\n",
    "        self.screen.blit(self.border, (0,0))\n",
    "        \n",
    "        self.MainLoop()\n",
    "    \n",
    "    def MovePiece(self, mousePos, piece, grabOffset):\n",
    "        #pieceX = (mouse.get_pos()[0] - self.offset.X)//self.sqLen\n",
    "        #pieceY = (mouse.get_pos()[1] - self.offset.Y)//self.sqLen\n",
    "        \n",
    "        drawX = mousePos[0] - grabOffset.X\n",
    "        drawY = mousePos[1] - grabOffset.Y\n",
    "        \n",
    "        #drawX = (pieceX * self.sqLen) + self.offset.X This draws into the squares\n",
    "        #drawY = (pieceY * self.sqLen) + self.offset.Y\n",
    "        \n",
    "        relX, relY = mouse.get_rel()\n",
    "        \n",
    "        self.screen.blit(self.base, (self.offset.X, self.offset.Y))\n",
    "        ###the following line is just redrawing entire squares over overlapping squares\n",
    "        #self.screen.blit(self.base, (drawX -relX, drawY -relY), pygame.Rect(0,0,self.sqLen, self.sqLen))#For use with a less complex background\n",
    "        self.screen.blit(self.sq, (drawX, drawY))\n",
    "        pygame.display.update()\n",
    "        \n",
    "    def PlacePiece(self, mousePos, piece, grabOffset):\n",
    "        #reset backgroud grid/board\n",
    "        self.screen.blit(self.border, (0,0))\n",
    "        self.screen.blit(self.base, (self.offset.X, self.offset.Y)) \n",
    "        \n",
    "        #pieceX = (mouse.get_pos()[0] - self.offset.X)//self.sqLen #This one places based on where the mouse is\n",
    "        #pieceY = (mouse.get_pos()[1] - self.offset.Y)//self.sqLen\n",
    "        pieceX = (mousePos[0] - grabOffset.X + self.sqLen//2 - self.offset.X)//self.sqLen #This one places based on where the center of the dragged piece is\n",
    "        pieceY = (mousePos[1] - grabOffset.Y + self.sqLen//2 - self.offset.Y)//self.sqLen\n",
    "        \n",
    "        \n",
    "        if not(0 <= pieceX <= self.boardXLimit) or not(0 <= pieceY <= self.boardYLimit):\n",
    "            pass\n",
    "        \n",
    "        \n",
    "        \n",
    "        drawX = (pieceX * self.sqLen) + self.offset.X #This draws into the squares\n",
    "        drawY = (pieceY * self.sqLen) + self.offset.Y\n",
    "        \n",
    "        self.screen.blit(self.sq, (drawX, drawY))\n",
    "        \n",
    "        \n",
    "        #TODO#self.Board.PlacePiece()\n",
    "        \n",
    "        return Coord(pieceX, pieceY)\n",
    "        \n",
    "    \n",
    "    def IdentifyPiece(self, mousePos):\n",
    "        return self.piecesList[0]\n",
    "    \n",
    "    def MainLoop(self):\n",
    "        sqLen=self.sqLen\n",
    "        offset = self.offset\n",
    "        pieceX = offset.X\n",
    "        pieceY = offset.Y\n",
    "        pieceHeld = False\n",
    "        grabOffset = Coord(0,0)\n",
    "        i=0\n",
    "        loop = True\n",
    "        \n",
    "        self.screen.blit(self.sq, (pieceX, pieceY))\n",
    "        \n",
    "        \n",
    "        while loop:\n",
    "            for event in pygame.event.get():\n",
    "                if event.type == pygame.QUIT:\n",
    "                    loop = False\n",
    "                    pygame.quit()\n",
    "                    sys.exit()\n",
    "                    break\n",
    "                if event.type == pygame.KEYDOWN:\n",
    "                    if event.key == pygame.K_ESCAPE:\n",
    "                        loop = False\n",
    "                        pygame.quit()\n",
    "                        sys.exit()\n",
    "                        break\n",
    "                if event.type == pygame.MOUSEBUTTONDOWN and event.button == 1:#leftClick #mouse.get_pressed()[0]:\n",
    "                    mousePos = mouse.get_pos()\n",
    "                    piece = self.IdentifyPiece(mousePos)\n",
    "                    \n",
    "                    grabOffset = Coord((mousePos[0] - self.offset.X) % self.sqLen, (mousePos[1] - self.offset.Y) % self.sqLen)\n",
    "                    print(grabOffset.X)\n",
    "                    \n",
    "                    self.MovePiece(mousePos, piece, grabOffset)\n",
    "                    pieceHeld = True\n",
    "                    #print((mouse.get_pos()[0] - offset.X)//sqLen, (mouse.get_pos()[1] - offset.Y)//sqLen) #get coord of clicked square\n",
    "                \n",
    "                if event.type == pygame.MOUSEBUTTONUP:\n",
    "                    mousePos = mouse.get_pos()\n",
    "                    #mousePos = (mousePos[0] + sqLen/2, mousePos[1] + sqLen/2)\n",
    "                    print(mousePos)\n",
    "                    piece = self.IdentifyPiece(mousePos)\n",
    "                    \n",
    "                    placeCoord = self.PlacePiece(mousePos, piece, grabOffset)\n",
    "                    \n",
    "                    print(placeCoord)\n",
    "                    pieceHeld = False\n",
    "                    pass #TODO\n",
    "                \n",
    "                if event.type == pygame.MOUSEMOTION and pieceHeld:\n",
    "                    mousePos = event.pos\n",
    "                    piece = self.IdentifyPiece(mousePos)\n",
    "                    self.MovePiece(mousePos, piece, grabOffset)\n",
    "                \n",
    "            #self.screen.blit(self.base, (pieceX, pieceY), pygame.Rect(0,0,sqLen, sqLen))#For use with a less complex background\n",
    "            #screen.blit(bg, (0,0))\n",
    "            #pieceX = int(i//sqLen)*sqLen + offset.X\n",
    "            #pieceY = (i//(sqLen*2))*sqLen + offset.Y\n",
    "            #self.screen.blit(self.sq, (pieceX, pieceY))\n",
    "            pygame.display.update()\n",
    "            #pygame.time.delay(1)\n",
    "            i += 1\n",
    "\n",
    "\n",
    "\n",
    "\n"
   ]
  },
  {
   "cell_type": "code",
   "execution_count": 113,
   "metadata": {},
   "outputs": [
    {
     "name": "stdout",
     "output_type": "stream",
     "text": [
      "60\n",
      "36\n",
      "(499, 199)\n",
      "Coord(X=7, Y=2)\n",
      "4\n",
      "(370, 324)\n",
      "Coord(X=5, Y=5)\n",
      "39\n",
      "(420, 193)\n",
      "Coord(X=6, Y=3)\n",
      "32\n",
      "(573, 328)\n",
      "Coord(X=8, Y=4)\n",
      "57\n",
      "(229, 366)\n",
      "Coord(X=2, Y=5)\n",
      "51\n",
      "(30, 231)\n",
      "Coord(X=-1, Y=3)\n",
      "45\n",
      "(27, 139)\n",
      "Coord(X=-1, Y=1)\n",
      "45\n",
      "(519, 240)\n",
      "Coord(X=7, Y=3)\n"
     ]
    },
    {
     "ename": "SystemExit",
     "evalue": "",
     "output_type": "error",
     "traceback": [
      "An exception has occurred, use %tb to see the full traceback.\n",
      "\u001b[1;31mSystemExit\u001b[0m\n"
     ]
    }
   ],
   "source": [
    "Piece.ResetAllPieceIDs()\n",
    "myGame = Animator(Board(), [BluePiece([Coord(0,0)])])\n",
    "myGame.StartDisplay()"
   ]
  },
  {
   "cell_type": "code",
   "execution_count": 4,
   "metadata": {},
   "outputs": [
    {
     "ename": "NameError",
     "evalue": "name 'myGame' is not defined",
     "output_type": "error",
     "traceback": [
      "\u001b[1;31m---------------------------------------------------------------------------\u001b[0m",
      "\u001b[1;31mNameError\u001b[0m                                 Traceback (most recent call last)",
      "\u001b[1;32m<ipython-input-4-6c70fd801082>\u001b[0m in \u001b[0;36m<module>\u001b[1;34m\u001b[0m\n\u001b[1;32m----> 1\u001b[1;33m \u001b[0mmyGame\u001b[0m\u001b[1;33m.\u001b[0m\u001b[0msqLen\u001b[0m\u001b[1;33m\u001b[0m\u001b[1;33m\u001b[0m\u001b[0m\n\u001b[0m",
      "\u001b[1;31mNameError\u001b[0m: name 'myGame' is not defined"
     ]
    }
   ],
   "source": [
    "myGame.sqLen"
   ]
  },
  {
   "cell_type": "code",
   "execution_count": 95,
   "metadata": {},
   "outputs": [],
   "source": [
    "pygame.quit()"
   ]
  },
  {
   "cell_type": "code",
   "execution_count": null,
   "metadata": {},
   "outputs": [],
   "source": []
  }
 ],
 "metadata": {
  "kernelspec": {
   "display_name": "Python 3",
   "language": "python",
   "name": "python3"
  }
 },
 "nbformat": 4,
 "nbformat_minor": 2
}
